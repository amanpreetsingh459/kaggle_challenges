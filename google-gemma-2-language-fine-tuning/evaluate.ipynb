{
 "cells": [
  {
   "cell_type": "code",
   "execution_count": 1,
   "metadata": {
    "execution": {
     "iopub.execute_input": "2024-12-26T11:11:48.055046Z",
     "iopub.status.busy": "2024-12-26T11:11:48.054695Z",
     "iopub.status.idle": "2024-12-26T11:11:48.176028Z",
     "shell.execute_reply": "2024-12-26T11:11:48.174190Z",
     "shell.execute_reply.started": "2024-12-26T11:11:48.055008Z"
    },
    "trusted": true
   },
   "outputs": [
    {
     "name": "stdout",
     "output_type": "stream",
     "text": [
      "/kaggle/working\n"
     ]
    }
   ],
   "source": [
    "!pwd"
   ]
  },
  {
   "cell_type": "code",
   "execution_count": 2,
   "metadata": {
    "_cell_guid": "b1076dfc-b9ad-4769-8c92-a6c4dae69d19",
    "_uuid": "8f2839f25d086af736a60e9eeb907d3b93b6e0e5",
    "execution": {
     "iopub.execute_input": "2024-12-26T11:12:09.473220Z",
     "iopub.status.busy": "2024-12-26T11:12:09.472698Z",
     "iopub.status.idle": "2024-12-26T11:12:44.086334Z",
     "shell.execute_reply": "2024-12-26T11:12:44.084842Z",
     "shell.execute_reply.started": "2024-12-26T11:12:09.473167Z"
    },
    "trusted": true
   },
   "outputs": [
    {
     "name": "stdout",
     "output_type": "stream",
     "text": [
      "\u001b[2K   \u001b[90m━━━━━━━━━━━━━━━━━━━━━━━━━━━━━━━━━━━━━━━━\u001b[0m \u001b[32m1.5/1.5 MB\u001b[0m \u001b[31m27.3 MB/s\u001b[0m eta \u001b[36m0:00:00\u001b[0m00:01\u001b[0m\n",
      "\u001b[?25h\u001b[31mERROR: pip's dependency resolver does not currently take into account all the packages that are installed. This behaviour is the source of the following dependency conflicts.\n",
      "preprocessing 0.1.13 requires nltk==3.2.4, but you have nltk 3.9.1 which is incompatible.\u001b[0m\u001b[31m\n",
      "\u001b[2K   \u001b[90m━━━━━━━━━━━━━━━━━━━━━━━━━━━━━━━━━━━━━━━━\u001b[0m \u001b[32m84.0/84.0 kB\u001b[0m \u001b[31m2.1 MB/s\u001b[0m eta \u001b[36m0:00:00\u001b[0m:00:01\u001b[0m\n",
      "\u001b[?25h  Preparing metadata (setup.py) ... \u001b[?25l\u001b[?25hdone\n",
      "  Building wheel for rouge_score (setup.py) ... \u001b[?25l\u001b[?25hdone\n",
      "\u001b[2K   \u001b[90m━━━━━━━━━━━━━━━━━━━━━━━━━━━━━━━━━━━━━━━━\u001b[0m \u001b[32m61.1/61.1 kB\u001b[0m \u001b[31m2.0 MB/s\u001b[0m eta \u001b[36m0:00:00\u001b[0m\n",
      "\u001b[?25h"
     ]
    }
   ],
   "source": [
    "!pip install -q accelerate\n",
    "!pip install -q transformers\n",
    "!pip install --upgrade -q nltk\n",
    "!pip install -q evaluate\n",
    "!pip install -q rouge_score\n",
    "!pip install -q bert_score\n",
    "!pip install -q mauve-text"
   ]
  },
  {
   "cell_type": "code",
   "execution_count": 3,
   "metadata": {
    "execution": {
     "iopub.execute_input": "2024-12-26T11:12:44.088258Z",
     "iopub.status.busy": "2024-12-26T11:12:44.087895Z",
     "iopub.status.idle": "2024-12-26T11:13:11.078307Z",
     "shell.execute_reply": "2024-12-26T11:13:11.077262Z",
     "shell.execute_reply.started": "2024-12-26T11:12:44.088232Z"
    },
    "trusted": true
   },
   "outputs": [],
   "source": [
    "from transformers import AutoTokenizer, AutoModelForCausalLM, pipeline\n",
    "from datasets import load_dataset, Dataset\n",
    "from evaluate import load\n",
    "import nltk\n",
    "import os, torch\n",
    "import pandas as pd"
   ]
  },
  {
   "cell_type": "code",
   "execution_count": 17,
   "metadata": {
    "execution": {
     "iopub.execute_input": "2024-12-26T11:15:08.031880Z",
     "iopub.status.busy": "2024-12-26T11:15:08.031510Z",
     "iopub.status.idle": "2024-12-26T11:15:08.231014Z",
     "shell.execute_reply": "2024-12-26T11:15:08.229633Z",
     "shell.execute_reply.started": "2024-12-26T11:15:08.031854Z"
    },
    "trusted": true
   },
   "outputs": [
    {
     "name": "stderr",
     "output_type": "stream",
     "text": [
      "[nltk_data] Downloading package punkt to /usr/share/nltk_data...\n",
      "[nltk_data]   Package punkt is already up-to-date!\n",
      "[nltk_data] Downloading package wordnet to /usr/share/nltk_data...\n",
      "[nltk_data]   Package wordnet is already up-to-date!\n",
      "[nltk_data] Downloading package punkt_tab to /usr/share/nltk_data...\n",
      "[nltk_data]   Unzipping tokenizers/punkt_tab.zip.\n"
     ]
    },
    {
     "data": {
      "text/plain": [
       "True"
      ]
     },
     "execution_count": 17,
     "metadata": {},
     "output_type": "execute_result"
    }
   ],
   "source": [
    "# Download NLTK resources if you haven't already\n",
    "nltk.download('punkt')\n",
    "nltk.download('wordnet')\n",
    "nltk.download('punkt_tab')"
   ]
  },
  {
   "cell_type": "code",
   "execution_count": 5,
   "metadata": {
    "execution": {
     "iopub.execute_input": "2024-12-26T11:13:28.621685Z",
     "iopub.status.busy": "2024-12-26T11:13:28.621318Z",
     "iopub.status.idle": "2024-12-26T11:13:28.626265Z",
     "shell.execute_reply": "2024-12-26T11:13:28.625217Z",
     "shell.execute_reply.started": "2024-12-26T11:13:28.621657Z"
    },
    "trusted": true
   },
   "outputs": [],
   "source": [
    "os.environ['HF_TOKEN'] = '<your-huggingface-token>'\n",
    "os.environ[\"WANDB_DISABLED\"] = \"true\""
   ]
  },
  {
   "cell_type": "code",
   "execution_count": 6,
   "metadata": {
    "execution": {
     "iopub.execute_input": "2024-12-26T11:13:30.021283Z",
     "iopub.status.busy": "2024-12-26T11:13:30.020893Z",
     "iopub.status.idle": "2024-12-26T11:13:30.026113Z",
     "shell.execute_reply": "2024-12-26T11:13:30.024689Z",
     "shell.execute_reply.started": "2024-12-26T11:13:30.021254Z"
    },
    "trusted": true
   },
   "outputs": [],
   "source": [
    "alpaca_prompt = \"\"\"\n",
    "### Instruction:\n",
    "{}\n",
    "\n",
    "### Input:\n",
    "{}\n",
    "\n",
    "### Response:\n",
    "{}\"\"\""
   ]
  },
  {
   "cell_type": "code",
   "execution_count": 7,
   "metadata": {
    "execution": {
     "iopub.execute_input": "2024-12-24T03:06:25.463846Z",
     "iopub.status.busy": "2024-12-24T03:06:25.463620Z",
     "iopub.status.idle": "2024-12-24T03:06:27.529585Z",
     "shell.execute_reply": "2024-12-24T03:06:27.528648Z",
     "shell.execute_reply.started": "2024-12-24T03:06:25.463828Z"
    },
    "trusted": true
   },
   "outputs": [
    {
     "data": {
      "application/vnd.jupyter.widget-view+json": {
       "model_id": "362da2b949e34279acb13f877f6fa2fb",
       "version_major": 2,
       "version_minor": 0
      },
      "text/plain": [
       "tokenizer_config.json:   0%|          | 0.00/46.4k [00:00<?, ?B/s]"
      ]
     },
     "metadata": {},
     "output_type": "display_data"
    },
    {
     "data": {
      "application/vnd.jupyter.widget-view+json": {
       "model_id": "7204898298844a1db0a17a0190902d7d",
       "version_major": 2,
       "version_minor": 0
      },
      "text/plain": [
       "tokenizer.model:   0%|          | 0.00/4.24M [00:00<?, ?B/s]"
      ]
     },
     "metadata": {},
     "output_type": "display_data"
    },
    {
     "data": {
      "application/vnd.jupyter.widget-view+json": {
       "model_id": "fb021dc1fd3b4fd59587c0b783735e54",
       "version_major": 2,
       "version_minor": 0
      },
      "text/plain": [
       "tokenizer.json:   0%|          | 0.00/17.5M [00:00<?, ?B/s]"
      ]
     },
     "metadata": {},
     "output_type": "display_data"
    },
    {
     "data": {
      "application/vnd.jupyter.widget-view+json": {
       "model_id": "1a3108ae084440dea93ed862a1b0867b",
       "version_major": 2,
       "version_minor": 0
      },
      "text/plain": [
       "special_tokens_map.json:   0%|          | 0.00/636 [00:00<?, ?B/s]"
      ]
     },
     "metadata": {},
     "output_type": "display_data"
    }
   ],
   "source": [
    "gemma_tokenizer = AutoTokenizer.from_pretrained(\"google/gemma-2-2b\")"
   ]
  },
  {
   "cell_type": "code",
   "execution_count": 8,
   "metadata": {
    "execution": {
     "iopub.execute_input": "2024-12-24T03:06:27.530863Z",
     "iopub.status.busy": "2024-12-24T03:06:27.530478Z",
     "iopub.status.idle": "2024-12-24T03:06:27.535997Z",
     "shell.execute_reply": "2024-12-24T03:06:27.535227Z",
     "shell.execute_reply.started": "2024-12-24T03:06:27.530825Z"
    },
    "trusted": true
   },
   "outputs": [
    {
     "data": {
      "text/plain": [
       "'<eos>'"
      ]
     },
     "execution_count": 8,
     "metadata": {},
     "output_type": "execute_result"
    }
   ],
   "source": [
    "EOS_TOKEN = gemma_tokenizer.eos_token # Must add EOS_TOKEN\n",
    "EOS_TOKEN"
   ]
  },
  {
   "cell_type": "code",
   "execution_count": 9,
   "metadata": {
    "execution": {
     "iopub.execute_input": "2024-12-24T03:06:27.538366Z",
     "iopub.status.busy": "2024-12-24T03:06:27.538152Z",
     "iopub.status.idle": "2024-12-24T03:06:27.550516Z",
     "shell.execute_reply": "2024-12-24T03:06:27.549725Z",
     "shell.execute_reply.started": "2024-12-24T03:06:27.538341Z"
    },
    "trusted": true
   },
   "outputs": [],
   "source": [
    "def formatting_prompts_func(examples):\n",
    "    instructions = examples[\"instruction\"]\n",
    "    inputs       = examples[\"input\"]\n",
    "    outputs      = examples[\"output\"]\n",
    "    texts = []\n",
    "    for instruction, input, output in zip(instructions, inputs, outputs):\n",
    "        if input is None:\n",
    "            input = \"\"\n",
    "        # Must add EOS_TOKEN, otherwise your generation will go on forever!\n",
    "        text = alpaca_prompt.format(instruction, input, output) + EOS_TOKEN\n",
    "        texts.append(text)\n",
    "    return { \"text\" : texts, }"
   ]
  },
  {
   "cell_type": "code",
   "execution_count": 10,
   "metadata": {
    "execution": {
     "iopub.execute_input": "2024-12-24T03:06:27.552123Z",
     "iopub.status.busy": "2024-12-24T03:06:27.551866Z",
     "iopub.status.idle": "2024-12-24T03:06:27.567361Z",
     "shell.execute_reply": "2024-12-24T03:06:27.566589Z",
     "shell.execute_reply.started": "2024-12-24T03:06:27.552104Z"
    },
    "trusted": true
   },
   "outputs": [],
   "source": [
    "def process_dataset(dataset_name,\n",
    "                    split_type,\n",
    "                    processing_func,\n",
    "                    rename_column = False,\n",
    "                    filter_data = False,\n",
    "                    filter_column_value = 'id',\n",
    "                    filter_value = 'alpaca',\n",
    "                    num_samples=20000):\n",
    "\n",
    "    if isinstance(dataset_name, str):\n",
    "        dataset = load_dataset(dataset_name, split=split_type)\n",
    "    else:\n",
    "        # Assuming dataset_name is a filepath for JSON file\n",
    "        with open(dataset_name, 'r') as file:\n",
    "            data = []\n",
    "            for line_number, line in enumerate(file, 1):\n",
    "                try:\n",
    "                    data.append(json.loads(line))\n",
    "                except json.JSONDecodeError as e:\n",
    "                    print(f\"Error parsing JSON at line {line_number}: {e}\")\n",
    "            dataset = Dataset.from_pandas(pd.DataFrame(data))\n",
    "\n",
    "    if rename_column:\n",
    "        dataset = rename(dataset)\n",
    "\n",
    "    if filter_data:\n",
    "        dataset = filter_dataset(dataset, num_samples, value, column_name)\n",
    "\n",
    "    dataset = dataset.map(processing_func, batched=True)\n",
    "\n",
    "    return dataset\n",
    "\n",
    "# Define the additional processing steps\n",
    "def rename(dataset):\n",
    "    return dataset.rename_column('response', 'output')\n",
    "\n",
    "def filter_dataset(dataset, num_samples, value, column_name):\n",
    "    return dataset.filter(lambda example: value in example[column_name]).shuffle(seed=42).select(range(num_samples))\n"
   ]
  },
  {
   "cell_type": "code",
   "execution_count": 11,
   "metadata": {
    "execution": {
     "iopub.execute_input": "2024-12-24T03:06:27.568506Z",
     "iopub.status.busy": "2024-12-24T03:06:27.568238Z",
     "iopub.status.idle": "2024-12-24T03:06:30.425544Z",
     "shell.execute_reply": "2024-12-24T03:06:30.424536Z",
     "shell.execute_reply.started": "2024-12-24T03:06:27.568481Z"
    },
    "trusted": true
   },
   "outputs": [
    {
     "data": {
      "application/vnd.jupyter.widget-view+json": {
       "model_id": "1775697c771f47078f8bcf62858439d3",
       "version_major": 2,
       "version_minor": 0
      },
      "text/plain": [
       "README.md:   0%|          | 0.00/1.24k [00:00<?, ?B/s]"
      ]
     },
     "metadata": {},
     "output_type": "display_data"
    },
    {
     "data": {
      "application/vnd.jupyter.widget-view+json": {
       "model_id": "5722335ae86444eb88f5c865fb024dbc",
       "version_major": 2,
       "version_minor": 0
      },
      "text/plain": [
       "train-00000-of-00001.parquet:   0%|          | 0.00/18.7M [00:00<?, ?B/s]"
      ]
     },
     "metadata": {},
     "output_type": "display_data"
    },
    {
     "data": {
      "application/vnd.jupyter.widget-view+json": {
       "model_id": "483be35457414e5cb6b344f0b9342c1a",
       "version_major": 2,
       "version_minor": 0
      },
      "text/plain": [
       "Generating train split:   0%|          | 0/52002 [00:00<?, ? examples/s]"
      ]
     },
     "metadata": {},
     "output_type": "display_data"
    },
    {
     "data": {
      "application/vnd.jupyter.widget-view+json": {
       "model_id": "9934946da31d4ec1a9c90500935cac54",
       "version_major": 2,
       "version_minor": 0
      },
      "text/plain": [
       "Map:   0%|          | 0/52002 [00:00<?, ? examples/s]"
      ]
     },
     "metadata": {},
     "output_type": "display_data"
    },
    {
     "name": "stdout",
     "output_type": "stream",
     "text": [
      "\n",
      "### Instruction:\n",
      "ਸਿਹਤਮੰਦ ਰਹਿਣ ਲਈ ਤਿੰਨ ਸੁਝਾਅ ਦਿਓ।\n",
      "\n",
      "### Input:\n",
      "\n",
      "\n",
      "### Response:\n",
      "1. ਸੰਤੁਲਿਤ ਖੁਰਾਕ ਖਾਓ ਅਤੇ ਬਹੁਤ ਸਾਰੇ ਫਲ ਅਤੇ ਸਬਜ਼ੀਆਂ ਨੂੰ ਸ਼ਾਮਲ ਕਰਨਾ ਯਕੀਨੀ ਬਣਾਓ।\n",
      "2. ਆਪਣੇ ਸਰੀਰ ਨੂੰ ਕਿਰਿਆਸ਼ੀਲ ਅਤੇ ਮਜ਼ਬੂਤ ​​ਰੱਖਣ ਲਈ ਨਿਯਮਿਤ ਤੌਰ 'ਤੇ ਕਸਰਤ ਕਰੋ।\n",
      "3. ਕਾਫ਼ੀ ਨੀਂਦ ਲਓ ਅਤੇ ਇਕਸਾਰ ਨੀਂਦ ਦਾ ਸਮਾਂ ਬਣਾਈ ਰੱਖੋ।<eos>\n"
     ]
    }
   ],
   "source": [
    "dataset_id = \"HydraIndicLM/punjabi_alpaca_52K\"\n",
    "\n",
    "dataset = process_dataset(dataset_id, \"train\", formatting_prompts_func)\n",
    "\n",
    "\n",
    "print(dataset['text'][0])"
   ]
  },
  {
   "cell_type": "code",
   "execution_count": 12,
   "metadata": {
    "execution": {
     "iopub.execute_input": "2024-12-24T03:06:30.426927Z",
     "iopub.status.busy": "2024-12-24T03:06:30.426595Z",
     "iopub.status.idle": "2024-12-24T03:06:30.431926Z",
     "shell.execute_reply": "2024-12-24T03:06:30.431114Z",
     "shell.execute_reply.started": "2024-12-24T03:06:30.426890Z"
    },
    "trusted": true
   },
   "outputs": [
    {
     "data": {
      "text/plain": [
       "Dataset({\n",
       "    features: ['input', 'instruction', 'output', 'text'],\n",
       "    num_rows: 52002\n",
       "})"
      ]
     },
     "execution_count": 12,
     "metadata": {},
     "output_type": "execute_result"
    }
   ],
   "source": [
    "dataset"
   ]
  },
  {
   "cell_type": "code",
   "execution_count": 13,
   "metadata": {
    "execution": {
     "iopub.execute_input": "2024-12-24T03:06:30.433254Z",
     "iopub.status.busy": "2024-12-24T03:06:30.432911Z",
     "iopub.status.idle": "2024-12-24T03:06:30.935648Z",
     "shell.execute_reply": "2024-12-24T03:06:30.934522Z",
     "shell.execute_reply.started": "2024-12-24T03:06:30.433222Z"
    },
    "trusted": true
   },
   "outputs": [
    {
     "name": "stdout",
     "output_type": "stream",
     "text": [
      "\n",
      "### Instruction:\n",
      "ਜੂਲੀਅਸ ਸੀਜ਼ਰ ਦੀ ਮੌਤ ਕਿਵੇਂ ਹੋਈ?\n",
      "\n",
      "### Input:\n",
      "\n",
      "\n",
      "### Response:\n",
      "ਜੂਲੀਅਸ ਸੀਜ਼ਰ ਦੀ ਹੱਤਿਆ 60 ਤੱਕ ਸਾਜ਼ਿਸ਼ਕਾਰਾਂ ਦੇ ਇੱਕ ਸਮੂਹ ਦੁਆਰਾ ਕੀਤੀ ਗਈ ਸੀ, ਜਿਸ ਦੀ ਅਗਵਾਈ ਗੇਅਸ ਕੈਸੀਅਸ ਲੌਂਗੀਨਸ ਅਤੇ ਮਾਰਕਸ ਜੂਨੀਅਸ ਬਰੂਟਸ, ਸੀਨੇਟ ਹਾਊਸ ਵਿੱਚ ਮਾਰਚ (15 ਮਾਰਚ) 44 ਈਸਵੀ ਪੂਰਵ ਦੇ ਆਈਡਸ ਵਿੱਚ ਕੀਤੀ ਗਈ ਸੀ।<eos>\n"
     ]
    }
   ],
   "source": [
    "print(dataset['text'][10])"
   ]
  },
  {
   "cell_type": "code",
   "execution_count": 14,
   "metadata": {
    "execution": {
     "iopub.execute_input": "2024-12-24T03:06:30.936863Z",
     "iopub.status.busy": "2024-12-24T03:06:30.936515Z",
     "iopub.status.idle": "2024-12-24T03:06:31.379310Z",
     "shell.execute_reply": "2024-12-24T03:06:31.378413Z",
     "shell.execute_reply.started": "2024-12-24T03:06:30.936828Z"
    },
    "trusted": true
   },
   "outputs": [
    {
     "name": "stdout",
     "output_type": "stream",
     "text": [
      "<class 'pandas.core.frame.DataFrame'>\n",
      "RangeIndex: 52002 entries, 0 to 52001\n",
      "Data columns (total 4 columns):\n",
      " #   Column       Non-Null Count  Dtype \n",
      "---  ------       --------------  ----- \n",
      " 0   input        52002 non-null  object\n",
      " 1   instruction  52002 non-null  object\n",
      " 2   output       52002 non-null  object\n",
      " 3   text         52002 non-null  object\n",
      "dtypes: object(4)\n",
      "memory usage: 1.6+ MB\n"
     ]
    }
   ],
   "source": [
    "df = dataset.to_pandas()\n",
    "df.info()"
   ]
  },
  {
   "cell_type": "code",
   "execution_count": 15,
   "metadata": {
    "execution": {
     "iopub.execute_input": "2024-12-24T03:06:31.380391Z",
     "iopub.status.busy": "2024-12-24T03:06:31.380098Z",
     "iopub.status.idle": "2024-12-24T03:06:32.556871Z",
     "shell.execute_reply": "2024-12-24T03:06:32.555929Z",
     "shell.execute_reply.started": "2024-12-24T03:06:31.380367Z"
    },
    "trusted": true
   },
   "outputs": [],
   "source": [
    "df.to_csv(\"dataset.csv\")"
   ]
  },
  {
   "cell_type": "code",
   "execution_count": 16,
   "metadata": {
    "execution": {
     "iopub.execute_input": "2024-12-24T03:06:32.558072Z",
     "iopub.status.busy": "2024-12-24T03:06:32.557779Z",
     "iopub.status.idle": "2024-12-24T03:06:32.570465Z",
     "shell.execute_reply": "2024-12-24T03:06:32.569644Z",
     "shell.execute_reply.started": "2024-12-24T03:06:32.558044Z"
    },
    "trusted": true
   },
   "outputs": [
    {
     "data": {
      "text/html": [
       "<div>\n",
       "<style scoped>\n",
       "    .dataframe tbody tr th:only-of-type {\n",
       "        vertical-align: middle;\n",
       "    }\n",
       "\n",
       "    .dataframe tbody tr th {\n",
       "        vertical-align: top;\n",
       "    }\n",
       "\n",
       "    .dataframe thead th {\n",
       "        text-align: right;\n",
       "    }\n",
       "</style>\n",
       "<table border=\"1\" class=\"dataframe\">\n",
       "  <thead>\n",
       "    <tr style=\"text-align: right;\">\n",
       "      <th></th>\n",
       "      <th>input</th>\n",
       "      <th>instruction</th>\n",
       "      <th>output</th>\n",
       "      <th>text</th>\n",
       "    </tr>\n",
       "  </thead>\n",
       "  <tbody>\n",
       "    <tr>\n",
       "      <th>0</th>\n",
       "      <td></td>\n",
       "      <td>ਸਿਹਤਮੰਦ ਰਹਿਣ ਲਈ ਤਿੰਨ ਸੁਝਾਅ ਦਿਓ।</td>\n",
       "      <td>1. ਸੰਤੁਲਿਤ ਖੁਰਾਕ ਖਾਓ ਅਤੇ ਬਹੁਤ ਸਾਰੇ ਫਲ ਅਤੇ ਸਬਜ਼...</td>\n",
       "      <td>\\n### Instruction:\\nਸਿਹਤਮੰਦ ਰਹਿਣ ਲਈ ਤਿੰਨ ਸੁਝਾਅ...</td>\n",
       "    </tr>\n",
       "    <tr>\n",
       "      <th>1</th>\n",
       "      <td></td>\n",
       "      <td>ਤਿੰਨ ਪ੍ਰਾਇਮਰੀ ਰੰਗ ਕੀ ਹਨ?</td>\n",
       "      <td>ਤਿੰਨ ਪ੍ਰਾਇਮਰੀ ਰੰਗ ਲਾਲ, ਨੀਲੇ ਅਤੇ ਪੀਲੇ ਹਨ।</td>\n",
       "      <td>\\n### Instruction:\\nਤਿੰਨ ਪ੍ਰਾਇਮਰੀ ਰੰਗ ਕੀ ਹਨ?\\n...</td>\n",
       "    </tr>\n",
       "    <tr>\n",
       "      <th>2</th>\n",
       "      <td></td>\n",
       "      <td>ਪਰਮਾਣੂ ਦੀ ਬਣਤਰ ਦਾ ਵਰਣਨ ਕਰੋ।</td>\n",
       "      <td>ਇੱਕ ਪਰਮਾਣੂ ਇੱਕ ਨਿਊਕਲੀਅਸ ਦਾ ਬਣਿਆ ਹੁੰਦਾ ਹੈ, ਜਿਸ ...</td>\n",
       "      <td>\\n### Instruction:\\nਪਰਮਾਣੂ ਦੀ ਬਣਤਰ ਦਾ ਵਰਣਨ ਕਰੋ...</td>\n",
       "    </tr>\n",
       "    <tr>\n",
       "      <th>3</th>\n",
       "      <td></td>\n",
       "      <td>ਅਸੀਂ ਹਵਾ ਪ੍ਰਦੂਸ਼ਣ ਨੂੰ ਕਿਵੇਂ ਘਟਾ ਸਕਦੇ ਹਾਂ?</td>\n",
       "      <td>ਹਵਾ ਪ੍ਰਦੂਸ਼ਣ ਨੂੰ ਘਟਾਉਣ ਦੇ ਕਈ ਤਰੀਕੇ ਹਨ, ਜਿਵੇਂ ਕ...</td>\n",
       "      <td>\\n### Instruction:\\nਅਸੀਂ ਹਵਾ ਪ੍ਰਦੂਸ਼ਣ ਨੂੰ ਕਿਵੇ...</td>\n",
       "    </tr>\n",
       "    <tr>\n",
       "      <th>4</th>\n",
       "      <td></td>\n",
       "      <td>ਉਸ ਸਮੇਂ ਦਾ ਵਰਣਨ ਕਰੋ ਜਦੋਂ ਤੁਹਾਨੂੰ ਇੱਕ ਮੁਸ਼ਕਲ ਫੈ...</td>\n",
       "      <td>ਜਦੋਂ ਮੈਂ ਇੱਕ ਉਸਾਰੀ ਕੰਪਨੀ ਵਿੱਚ ਇੱਕ ਪ੍ਰੋਜੈਕਟ ਮੈਨ...</td>\n",
       "      <td>\\n### Instruction:\\nਉਸ ਸਮੇਂ ਦਾ ਵਰਣਨ ਕਰੋ ਜਦੋਂ ਤ...</td>\n",
       "    </tr>\n",
       "  </tbody>\n",
       "</table>\n",
       "</div>"
      ],
      "text/plain": [
       "  input                                        instruction  \\\n",
       "0                          ਸਿਹਤਮੰਦ ਰਹਿਣ ਲਈ ਤਿੰਨ ਸੁਝਾਅ ਦਿਓ।   \n",
       "1                                 ਤਿੰਨ ਪ੍ਰਾਇਮਰੀ ਰੰਗ ਕੀ ਹਨ?   \n",
       "2                              ਪਰਮਾਣੂ ਦੀ ਬਣਤਰ ਦਾ ਵਰਣਨ ਕਰੋ।   \n",
       "3                ਅਸੀਂ ਹਵਾ ਪ੍ਰਦੂਸ਼ਣ ਨੂੰ ਕਿਵੇਂ ਘਟਾ ਸਕਦੇ ਹਾਂ?   \n",
       "4        ਉਸ ਸਮੇਂ ਦਾ ਵਰਣਨ ਕਰੋ ਜਦੋਂ ਤੁਹਾਨੂੰ ਇੱਕ ਮੁਸ਼ਕਲ ਫੈ...   \n",
       "\n",
       "                                              output  \\\n",
       "0  1. ਸੰਤੁਲਿਤ ਖੁਰਾਕ ਖਾਓ ਅਤੇ ਬਹੁਤ ਸਾਰੇ ਫਲ ਅਤੇ ਸਬਜ਼...   \n",
       "1           ਤਿੰਨ ਪ੍ਰਾਇਮਰੀ ਰੰਗ ਲਾਲ, ਨੀਲੇ ਅਤੇ ਪੀਲੇ ਹਨ।   \n",
       "2  ਇੱਕ ਪਰਮਾਣੂ ਇੱਕ ਨਿਊਕਲੀਅਸ ਦਾ ਬਣਿਆ ਹੁੰਦਾ ਹੈ, ਜਿਸ ...   \n",
       "3  ਹਵਾ ਪ੍ਰਦੂਸ਼ਣ ਨੂੰ ਘਟਾਉਣ ਦੇ ਕਈ ਤਰੀਕੇ ਹਨ, ਜਿਵੇਂ ਕ...   \n",
       "4  ਜਦੋਂ ਮੈਂ ਇੱਕ ਉਸਾਰੀ ਕੰਪਨੀ ਵਿੱਚ ਇੱਕ ਪ੍ਰੋਜੈਕਟ ਮੈਨ...   \n",
       "\n",
       "                                                text  \n",
       "0  \\n### Instruction:\\nਸਿਹਤਮੰਦ ਰਹਿਣ ਲਈ ਤਿੰਨ ਸੁਝਾਅ...  \n",
       "1  \\n### Instruction:\\nਤਿੰਨ ਪ੍ਰਾਇਮਰੀ ਰੰਗ ਕੀ ਹਨ?\\n...  \n",
       "2  \\n### Instruction:\\nਪਰਮਾਣੂ ਦੀ ਬਣਤਰ ਦਾ ਵਰਣਨ ਕਰੋ...  \n",
       "3  \\n### Instruction:\\nਅਸੀਂ ਹਵਾ ਪ੍ਰਦੂਸ਼ਣ ਨੂੰ ਕਿਵੇ...  \n",
       "4  \\n### Instruction:\\nਉਸ ਸਮੇਂ ਦਾ ਵਰਣਨ ਕਰੋ ਜਦੋਂ ਤ...  "
      ]
     },
     "execution_count": 16,
     "metadata": {},
     "output_type": "execute_result"
    }
   ],
   "source": [
    "df.head()"
   ]
  },
  {
   "cell_type": "code",
   "execution_count": 28,
   "metadata": {
    "execution": {
     "iopub.execute_input": "2024-12-24T03:15:15.972350Z",
     "iopub.status.busy": "2024-12-24T03:15:15.972039Z",
     "iopub.status.idle": "2024-12-24T03:15:15.980581Z",
     "shell.execute_reply": "2024-12-24T03:15:15.979745Z",
     "shell.execute_reply.started": "2024-12-24T03:15:15.972328Z"
    },
    "trusted": true
   },
   "outputs": [
    {
     "data": {
      "text/plain": [
       "Dataset({\n",
       "    features: ['input', 'instruction', 'output', 'text'],\n",
       "    num_rows: 5002\n",
       "})"
      ]
     },
     "execution_count": 28,
     "metadata": {},
     "output_type": "execute_result"
    }
   ],
   "source": [
    "#test_dataset_obj = dataset.select(range(47000,52002))\n",
    "test_dataset_obj = dataset.select(range(47000,52002))\n",
    "test_dataset_obj"
   ]
  },
  {
   "cell_type": "code",
   "execution_count": 18,
   "metadata": {
    "execution": {
     "iopub.execute_input": "2024-12-24T03:06:32.580822Z",
     "iopub.status.busy": "2024-12-24T03:06:32.580480Z",
     "iopub.status.idle": "2024-12-24T03:06:32.592482Z",
     "shell.execute_reply": "2024-12-24T03:06:32.591861Z",
     "shell.execute_reply.started": "2024-12-24T03:06:32.580789Z"
    },
    "trusted": true
   },
   "outputs": [
    {
     "data": {
      "text/plain": [
       "{'input': 'ਇਸ ਵਾਕ ਵਿੱਚ ਕੋਈ ਗਲਤੀ ਨਹੀਂ ਹੈ।',\n",
       " 'instruction': \"ਜਾਂਚ ਕਰੋ ਕਿ ਕੀ ਇਹ ਵਾਕ ਵਿਆਕਰਨਿਕ ਤੌਰ 'ਤੇ ਸਹੀ ਹੈ। ਆਉਟਪੁੱਟ ਹਾਂ ਜਾਂ ਨਹੀਂ।\",\n",
       " 'output': 'ਹਾਂ',\n",
       " 'text': \"\\n### Instruction:\\nਜਾਂਚ ਕਰੋ ਕਿ ਕੀ ਇਹ ਵਾਕ ਵਿਆਕਰਨਿਕ ਤੌਰ 'ਤੇ ਸਹੀ ਹੈ। ਆਉਟਪੁੱਟ ਹਾਂ ਜਾਂ ਨਹੀਂ।\\n\\n### Input:\\nਇਸ ਵਾਕ ਵਿੱਚ ਕੋਈ ਗਲਤੀ ਨਹੀਂ ਹੈ।\\n\\n### Response:\\nਹਾਂ<eos>\"}"
      ]
     },
     "execution_count": 18,
     "metadata": {},
     "output_type": "execute_result"
    }
   ],
   "source": [
    "test_dataset_obj[4]"
   ]
  },
  {
   "cell_type": "code",
   "execution_count": 19,
   "metadata": {
    "execution": {
     "iopub.execute_input": "2024-12-24T03:06:32.593344Z",
     "iopub.status.busy": "2024-12-24T03:06:32.593170Z",
     "iopub.status.idle": "2024-12-24T03:10:48.343662Z",
     "shell.execute_reply": "2024-12-24T03:10:48.342962Z",
     "shell.execute_reply.started": "2024-12-24T03:06:32.593328Z"
    },
    "trusted": true
   },
   "outputs": [
    {
     "data": {
      "application/vnd.jupyter.widget-view+json": {
       "model_id": "784146540e2d4535b7f2ee1735652b45",
       "version_major": 2,
       "version_minor": 0
      },
      "text/plain": [
       "config.json:   0%|          | 0.00/818 [00:00<?, ?B/s]"
      ]
     },
     "metadata": {},
     "output_type": "display_data"
    },
    {
     "data": {
      "application/vnd.jupyter.widget-view+json": {
       "model_id": "702623c7598c49ce818da743aab402b8",
       "version_major": 2,
       "version_minor": 0
      },
      "text/plain": [
       "model.safetensors.index.json:   0%|          | 0.00/24.2k [00:00<?, ?B/s]"
      ]
     },
     "metadata": {},
     "output_type": "display_data"
    },
    {
     "data": {
      "application/vnd.jupyter.widget-view+json": {
       "model_id": "45256dc00b794dee92a01135a70f015c",
       "version_major": 2,
       "version_minor": 0
      },
      "text/plain": [
       "Downloading shards:   0%|          | 0/3 [00:00<?, ?it/s]"
      ]
     },
     "metadata": {},
     "output_type": "display_data"
    },
    {
     "data": {
      "application/vnd.jupyter.widget-view+json": {
       "model_id": "826e820aa4904505a9b46b031635a3e9",
       "version_major": 2,
       "version_minor": 0
      },
      "text/plain": [
       "model-00001-of-00003.safetensors:   0%|          | 0.00/4.99G [00:00<?, ?B/s]"
      ]
     },
     "metadata": {},
     "output_type": "display_data"
    },
    {
     "data": {
      "application/vnd.jupyter.widget-view+json": {
       "model_id": "442b40651812422a888d5353dadcce4c",
       "version_major": 2,
       "version_minor": 0
      },
      "text/plain": [
       "model-00002-of-00003.safetensors:   0%|          | 0.00/4.98G [00:00<?, ?B/s]"
      ]
     },
     "metadata": {},
     "output_type": "display_data"
    },
    {
     "data": {
      "application/vnd.jupyter.widget-view+json": {
       "model_id": "2dbd242d879d4de793be5944713f35a9",
       "version_major": 2,
       "version_minor": 0
      },
      "text/plain": [
       "model-00003-of-00003.safetensors:   0%|          | 0.00/481M [00:00<?, ?B/s]"
      ]
     },
     "metadata": {},
     "output_type": "display_data"
    },
    {
     "data": {
      "application/vnd.jupyter.widget-view+json": {
       "model_id": "233dad5f7cdc4df78095bd0d9ad1fc53",
       "version_major": 2,
       "version_minor": 0
      },
      "text/plain": [
       "Loading checkpoint shards:   0%|          | 0/3 [00:00<?, ?it/s]"
      ]
     },
     "metadata": {},
     "output_type": "display_data"
    },
    {
     "data": {
      "application/vnd.jupyter.widget-view+json": {
       "model_id": "6878d1d07f2149e99cbc400f66b360cf",
       "version_major": 2,
       "version_minor": 0
      },
      "text/plain": [
       "generation_config.json:   0%|          | 0.00/168 [00:00<?, ?B/s]"
      ]
     },
     "metadata": {},
     "output_type": "display_data"
    }
   ],
   "source": [
    "base_model = AutoModelForCausalLM.from_pretrained(\n",
    "    \"google/gemma-2-2b\",\n",
    "    #\"google/gemma-2-2b-it\",\n",
    "    device_map=\"auto\",\n",
    "    torch_dtype=torch.bfloat16\n",
    ")"
   ]
  },
  {
   "cell_type": "code",
   "execution_count": 30,
   "metadata": {
    "execution": {
     "iopub.execute_input": "2024-12-24T03:15:26.978810Z",
     "iopub.status.busy": "2024-12-24T03:15:26.978461Z",
     "iopub.status.idle": "2024-12-24T03:15:26.986154Z",
     "shell.execute_reply": "2024-12-24T03:15:26.985477Z",
     "shell.execute_reply.started": "2024-12-24T03:15:26.978782Z"
    },
    "trusted": true
   },
   "outputs": [
    {
     "data": {
      "text/plain": [
       "Dataset({\n",
       "    features: ['input', 'instruction', 'output', 'text'],\n",
       "    num_rows: 4078\n",
       "})"
      ]
     },
     "execution_count": 30,
     "metadata": {},
     "output_type": "execute_result"
    }
   ],
   "source": [
    "#test_dataset_obj[924:925]\n",
    "#test_dataset_obj = test_dataset_obj.select(range(924, 5002))\n",
    "test_dataset_obj = test_dataset_obj.select(range(4286, 5002))\n",
    "test_dataset_obj"
   ]
  },
  {
   "cell_type": "code",
   "execution_count": 31,
   "metadata": {
    "execution": {
     "iopub.execute_input": "2024-12-24T03:15:50.210585Z",
     "iopub.status.busy": "2024-12-24T03:15:50.210252Z",
     "iopub.status.idle": "2024-12-24T03:15:50.214283Z",
     "shell.execute_reply": "2024-12-24T03:15:50.213480Z",
     "shell.execute_reply.started": "2024-12-24T03:15:50.210535Z"
    },
    "trusted": true
   },
   "outputs": [],
   "source": [
    "import csv"
   ]
  },
  {
   "cell_type": "code",
   "execution_count": null,
   "metadata": {
    "trusted": true
   },
   "outputs": [],
   "source": [
    "predictions = []\n",
    "references = []\n",
    "count = 923\n",
    "for example in test_dataset_obj:\n",
    "    instructions = example[\"instruction\"]\n",
    "    inputs = example[\"input\"]\n",
    "    \n",
    "    text = alpaca_prompt.format(instructions, inputs, \"\")\n",
    "    reference = example[\"output\"]  # the desired output\n",
    "    \n",
    "    inputs_tokenized = gemma_tokenizer([text], return_tensors = \"pt\").to(\"cuda\")\n",
    "    \n",
    "    outputs = base_model.generate(**inputs_tokenized, max_new_tokens = 300)\n",
    "    decoded_outputs = gemma_tokenizer.batch_decode(outputs)\n",
    "    generated_text = decoded_outputs[0]\n",
    "    #print(generated_text)\n",
    "    #print(\"=======\")\n",
    "\n",
    "    predictions.append(generated_text[5:-5])\n",
    "    references.append(reference)\n",
    "\n",
    "    with open(\"base_preds4.csv\", 'a+', newline='') as csvfile:\n",
    "        writer = csv.writer(csvfile)\n",
    "    \n",
    "        # Write each row to the CSV file\n",
    "        #for row in data:\n",
    "        writer.writerow([generated_text[5:-5], reference])\n",
    "    count += 1\n",
    "    print(\"Count:\", count, end=\", \")\n",
    "    \n",
    "    #count += 1\n",
    "    #if count == 5:\n",
    "    #    break"
   ]
  },
  {
   "cell_type": "code",
   "execution_count": 7,
   "metadata": {
    "execution": {
     "iopub.execute_input": "2024-12-26T11:13:44.156153Z",
     "iopub.status.busy": "2024-12-26T11:13:44.155605Z",
     "iopub.status.idle": "2024-12-26T11:13:44.596490Z",
     "shell.execute_reply": "2024-12-26T11:13:44.594931Z",
     "shell.execute_reply.started": "2024-12-26T11:13:44.156110Z"
    },
    "trusted": true
   },
   "outputs": [
    {
     "ename": "NameError",
     "evalue": "name 'predictions' is not defined",
     "output_type": "error",
     "traceback": [
      "\u001b[0;31m---------------------------------------------------------------------------\u001b[0m",
      "\u001b[0;31mNameError\u001b[0m                                 Traceback (most recent call last)",
      "\u001b[0;32m<ipython-input-7-4f74fb48104f>\u001b[0m in \u001b[0;36m<cell line: 2>\u001b[0;34m()\u001b[0m\n\u001b[1;32m      1\u001b[0m \u001b[0mbase_evaluation_df\u001b[0m \u001b[0;34m=\u001b[0m \u001b[0mpd\u001b[0m\u001b[0;34m.\u001b[0m\u001b[0mDataFrame\u001b[0m\u001b[0;34m(\u001b[0m\u001b[0;34m)\u001b[0m\u001b[0;34m\u001b[0m\u001b[0;34m\u001b[0m\u001b[0m\n\u001b[0;32m----> 2\u001b[0;31m \u001b[0mbase_evaluation_df\u001b[0m\u001b[0;34m[\u001b[0m\u001b[0;34m'base_preds'\u001b[0m\u001b[0;34m]\u001b[0m \u001b[0;34m=\u001b[0m \u001b[0mpredictions\u001b[0m\u001b[0;34m\u001b[0m\u001b[0;34m\u001b[0m\u001b[0m\n\u001b[0m\u001b[1;32m      3\u001b[0m \u001b[0mbase_evaluation_df\u001b[0m\u001b[0;34m[\u001b[0m\u001b[0;34m'base_references'\u001b[0m\u001b[0;34m]\u001b[0m \u001b[0;34m=\u001b[0m \u001b[0mreferences\u001b[0m\u001b[0;34m\u001b[0m\u001b[0;34m\u001b[0m\u001b[0m\n\u001b[1;32m      4\u001b[0m \u001b[0mbase_evaluation_df\u001b[0m\u001b[0;34m.\u001b[0m\u001b[0mto_csv\u001b[0m\u001b[0;34m(\u001b[0m\u001b[0;34m\"base_preds2.csv\"\u001b[0m\u001b[0;34m,\u001b[0m \u001b[0mindex\u001b[0m\u001b[0;34m=\u001b[0m\u001b[0;32mNone\u001b[0m\u001b[0;34m)\u001b[0m\u001b[0;34m\u001b[0m\u001b[0;34m\u001b[0m\u001b[0m\n",
      "\u001b[0;31mNameError\u001b[0m: name 'predictions' is not defined"
     ]
    }
   ],
   "source": [
    "base_evaluation_df = pd.DataFrame()\n",
    "base_evaluation_df['base_preds'] = predictions\n",
    "base_evaluation_df['base_references'] = references\n",
    "base_evaluation_df.to_csv(\"base_preds2.csv\", index=None)"
   ]
  },
  {
   "cell_type": "code",
   "execution_count": 1,
   "metadata": {
    "execution": {
     "iopub.execute_input": "2025-01-06T07:03:52.487170Z",
     "iopub.status.busy": "2025-01-06T07:03:52.486793Z",
     "iopub.status.idle": "2025-01-06T07:03:53.142449Z",
     "shell.execute_reply": "2025-01-06T07:03:53.141219Z",
     "shell.execute_reply.started": "2025-01-06T07:03:52.487119Z"
    },
    "trusted": true
   },
   "outputs": [
    {
     "name": "stdout",
     "output_type": "stream",
     "text": [
      "<class 'pandas.core.frame.DataFrame'>\n",
      "RangeIndex: 4284 entries, 0 to 4283\n",
      "Data columns (total 2 columns):\n",
      " #   Column                                                                                                                                                                                                                                                                                  Non-Null Count  Dtype \n",
      "---  ------                                                                                                                                                                                                                                                                                  --------------  ----- \n",
      " 0   \n",
      "### Instruction:\n",
      "ਪੰਜ ਸਵਾਲ ਤਿਆਰ ਕਰੋ ਜੋ ਲੋਕ ਆਪਣੇ ਕਰੀਅਰ ਦੇ ਉਦੇਸ਼ ਨੂੰ ਖੋਜਣ ਲਈ ਆਪਣੇ ਆਪ ਨੂੰ ਪੁੱਛ ਸਕਦੇ ਹਨ\n",
      "\n",
      "### Input:\n",
      "\n",
      "\n",
      "### Response:\n",
      "                                                                                                                                                        4284 non-null   object\n",
      " 1   1. ਕਿਹੜੀ ਚੀਜ਼ ਮੈਨੂੰ ਸਭ ਤੋਂ ਵੱਧ ਪ੍ਰੇਰਿਤ ਅਤੇ ਪ੍ਰੇਰਿਤ ਮਹਿਸੂਸ ਕਰਦੀ ਹੈ?\n",
      "2. ਮੈਨੂੰ ਕਿਹੜੀਆਂ ਗਤੀਵਿਧੀਆਂ ਦਾ ਸਭ ਤੋਂ ਵੱਧ ਆਨੰਦ ਆਉਂਦਾ ਹੈ?\n",
      "3. ਮੇਰੇ ਜਨੂੰਨ ਅਤੇ ਮੂਲ ਮੁੱਲ ਕੀ ਹਨ?\n",
      "4. ਮੈਂ ਕੁਦਰਤੀ ਤੌਰ 'ਤੇ ਕਿਸ ਚੀਜ਼ ਵਿੱਚ ਪ੍ਰਤਿਭਾਸ਼ਾਲੀ ਹਾਂ?\n",
      "5. ਮੈਂ ਕਿਹੜੀਆਂ ਸਮੱਸਿਆਵਾਂ ਨੂੰ ਹੱਲ ਕਰਨ ਲਈ ਸਭ ਤੋਂ ਵੱਧ ਮਹਿਸੂਸ ਕਰਦਾ ਹਾਂ?  4282 non-null   object\n",
      "dtypes: object(2)\n",
      "memory usage: 67.1+ KB\n"
     ]
    }
   ],
   "source": [
    "import pandas as pd\n",
    "saved_preds_df = pd.read_csv(\"base_preds4.csv\")\n",
    "saved_preds_df.info()"
   ]
  },
  {
   "cell_type": "code",
   "execution_count": 2,
   "metadata": {
    "execution": {
     "iopub.execute_input": "2025-01-06T07:03:57.768343Z",
     "iopub.status.busy": "2025-01-06T07:03:57.767997Z",
     "iopub.status.idle": "2025-01-06T07:03:57.782601Z",
     "shell.execute_reply": "2025-01-06T07:03:57.781444Z",
     "shell.execute_reply.started": "2025-01-06T07:03:57.768314Z"
    },
    "trusted": true
   },
   "outputs": [
    {
     "data": {
      "text/html": [
       "<div>\n",
       "<style scoped>\n",
       "    .dataframe tbody tr th:only-of-type {\n",
       "        vertical-align: middle;\n",
       "    }\n",
       "\n",
       "    .dataframe tbody tr th {\n",
       "        vertical-align: top;\n",
       "    }\n",
       "\n",
       "    .dataframe thead th {\n",
       "        text-align: right;\n",
       "    }\n",
       "</style>\n",
       "<table border=\"1\" class=\"dataframe\">\n",
       "  <thead>\n",
       "    <tr style=\"text-align: right;\">\n",
       "      <th></th>\n",
       "      <th>\\n### Instruction:\\nਪੰਜ ਸਵਾਲ ਤਿਆਰ ਕਰੋ ਜੋ ਲੋਕ ਆਪਣੇ ਕਰੀਅਰ ਦੇ ਉਦੇਸ਼ ਨੂੰ ਖੋਜਣ ਲਈ ਆਪਣੇ ਆਪ ਨੂੰ ਪੁੱਛ ਸਕਦੇ ਹਨ\\n\\n### Input:\\n\\n\\n### Response:\\n</th>\n",
       "      <th>1. ਕਿਹੜੀ ਚੀਜ਼ ਮੈਨੂੰ ਸਭ ਤੋਂ ਵੱਧ ਪ੍ਰੇਰਿਤ ਅਤੇ ਪ੍ਰੇਰਿਤ ਮਹਿਸੂਸ ਕਰਦੀ ਹੈ?\\n2. ਮੈਨੂੰ ਕਿਹੜੀਆਂ ਗਤੀਵਿਧੀਆਂ ਦਾ ਸਭ ਤੋਂ ਵੱਧ ਆਨੰਦ ਆਉਂਦਾ ਹੈ?\\n3. ਮੇਰੇ ਜਨੂੰਨ ਅਤੇ ਮੂਲ ਮੁੱਲ ਕੀ ਹਨ?\\n4. ਮੈਂ ਕੁਦਰਤੀ ਤੌਰ 'ਤੇ ਕਿਸ ਚੀਜ਼ ਵਿੱਚ ਪ੍ਰਤਿਭਾਸ਼ਾਲੀ ਹਾਂ?\\n5. ਮੈਂ ਕਿਹੜੀਆਂ ਸਮੱਸਿਆਵਾਂ ਨੂੰ ਹੱਲ ਕਰਨ ਲਈ ਸਭ ਤੋਂ ਵੱਧ ਮਹਿਸੂਸ ਕਰਦਾ ਹਾਂ?</th>\n",
       "    </tr>\n",
       "  </thead>\n",
       "  <tbody>\n",
       "    <tr>\n",
       "      <th>0</th>\n",
       "      <td>\\n### Instruction:\\n5 ਬਾਹਰੀ ਗਤੀਵਿਧੀਆਂ ਦੀ ਸੂਚੀ ...</td>\n",
       "      <td>1. ਕੁਦਰਤ ਦੀ ਸੈਰ ਕਰੋ।\\n2. ਸਾਈਕਲ ਦੀ ਸਵਾਰੀ ਲਈ ਜਾਓ...</td>\n",
       "    </tr>\n",
       "    <tr>\n",
       "      <th>1</th>\n",
       "      <td>\\n### Instruction:\\nਪੰਜ ਗੁਣ ਦੱਸੋ ਜੋ ਕਿਸੇ ਨੂੰ ਪ...</td>\n",
       "      <td>1. ਭਰੋਸੇਯੋਗ\\n2. ਉਦਾਰ\\n3. ਸਹਾਇਕ\\n4. ਗੈਰ-ਨਿਰਣਾਇਕ...</td>\n",
       "    </tr>\n",
       "    <tr>\n",
       "      <th>2</th>\n",
       "      <td>\\n### Instruction:\\nਇੱਕ ਕਾਲਪਨਿਕ ਸੌਫਟਵੇਅਰ ਕੰਪਨੀ...</td>\n",
       "      <td>ਅੰਤਮ ਸੌਫਟਵੇਅਰ ਪੈਕੇਜ ਬਣਾਓ ਅਤੇ 30% ਦੀ ਛੂਟ ਪ੍ਰਾਪਤ...</td>\n",
       "    </tr>\n",
       "    <tr>\n",
       "      <th>3</th>\n",
       "      <td>\\n### Instruction:\\nਜਾਂਚ ਕਰੋ ਕਿ ਕੀ ਇਹ ਵਾਕ ਵਿਆਕ...</td>\n",
       "      <td>ਹਾਂ</td>\n",
       "    </tr>\n",
       "    <tr>\n",
       "      <th>4</th>\n",
       "      <td>\\n### Instruction:\\nਦਿੱਤੇ ਪੈਰੇ ਤੋਂ ਇੱਕ ਤੱਥ ਮੁੜ...</td>\n",
       "      <td>ਐਪਲ ਨੇ ਇਸ ਹਫਤੇ Apple M1 ਚਿੱਪ ਦੀ ਘੋਸ਼ਣਾ ਕੀਤੀ.</td>\n",
       "    </tr>\n",
       "  </tbody>\n",
       "</table>\n",
       "</div>"
      ],
      "text/plain": [
       "  \\n### Instruction:\\nਪੰਜ ਸਵਾਲ ਤਿਆਰ ਕਰੋ ਜੋ ਲੋਕ ਆਪਣੇ ਕਰੀਅਰ ਦੇ ਉਦੇਸ਼ ਨੂੰ ਖੋਜਣ ਲਈ ਆਪਣੇ ਆਪ ਨੂੰ ਪੁੱਛ ਸਕਦੇ ਹਨ\\n\\n### Input:\\n\\n\\n### Response:\\n  \\\n",
       "0  \\n### Instruction:\\n5 ਬਾਹਰੀ ਗਤੀਵਿਧੀਆਂ ਦੀ ਸੂਚੀ ...                                                                                         \n",
       "1  \\n### Instruction:\\nਪੰਜ ਗੁਣ ਦੱਸੋ ਜੋ ਕਿਸੇ ਨੂੰ ਪ...                                                                                         \n",
       "2  \\n### Instruction:\\nਇੱਕ ਕਾਲਪਨਿਕ ਸੌਫਟਵੇਅਰ ਕੰਪਨੀ...                                                                                         \n",
       "3  \\n### Instruction:\\nਜਾਂਚ ਕਰੋ ਕਿ ਕੀ ਇਹ ਵਾਕ ਵਿਆਕ...                                                                                         \n",
       "4  \\n### Instruction:\\nਦਿੱਤੇ ਪੈਰੇ ਤੋਂ ਇੱਕ ਤੱਥ ਮੁੜ...                                                                                         \n",
       "\n",
       "  1. ਕਿਹੜੀ ਚੀਜ਼ ਮੈਨੂੰ ਸਭ ਤੋਂ ਵੱਧ ਪ੍ਰੇਰਿਤ ਅਤੇ ਪ੍ਰੇਰਿਤ ਮਹਿਸੂਸ ਕਰਦੀ ਹੈ?\\n2. ਮੈਨੂੰ ਕਿਹੜੀਆਂ ਗਤੀਵਿਧੀਆਂ ਦਾ ਸਭ ਤੋਂ ਵੱਧ ਆਨੰਦ ਆਉਂਦਾ ਹੈ?\\n3. ਮੇਰੇ ਜਨੂੰਨ ਅਤੇ ਮੂਲ ਮੁੱਲ ਕੀ ਹਨ?\\n4. ਮੈਂ ਕੁਦਰਤੀ ਤੌਰ 'ਤੇ ਕਿਸ ਚੀਜ਼ ਵਿੱਚ ਪ੍ਰਤਿਭਾਸ਼ਾਲੀ ਹਾਂ?\\n5. ਮੈਂ ਕਿਹੜੀਆਂ ਸਮੱਸਿਆਵਾਂ ਨੂੰ ਹੱਲ ਕਰਨ ਲਈ ਸਭ ਤੋਂ ਵੱਧ ਮਹਿਸੂਸ ਕਰਦਾ ਹਾਂ?  \n",
       "0  1. ਕੁਦਰਤ ਦੀ ਸੈਰ ਕਰੋ।\\n2. ਸਾਈਕਲ ਦੀ ਸਵਾਰੀ ਲਈ ਜਾਓ...                                                                                                                                                                                                                                          \n",
       "1  1. ਭਰੋਸੇਯੋਗ\\n2. ਉਦਾਰ\\n3. ਸਹਾਇਕ\\n4. ਗੈਰ-ਨਿਰਣਾਇਕ...                                                                                                                                                                                                                                          \n",
       "2  ਅੰਤਮ ਸੌਫਟਵੇਅਰ ਪੈਕੇਜ ਬਣਾਓ ਅਤੇ 30% ਦੀ ਛੂਟ ਪ੍ਰਾਪਤ...                                                                                                                                                                                                                                          \n",
       "3                                                ਹਾਂ                                                                                                                                                                                                                                          \n",
       "4       ਐਪਲ ਨੇ ਇਸ ਹਫਤੇ Apple M1 ਚਿੱਪ ਦੀ ਘੋਸ਼ਣਾ ਕੀਤੀ.                                                                                                                                                                                                                                          "
      ]
     },
     "execution_count": 2,
     "metadata": {},
     "output_type": "execute_result"
    }
   ],
   "source": [
    "saved_preds_df.head()"
   ]
  },
  {
   "cell_type": "code",
   "execution_count": 3,
   "metadata": {
    "execution": {
     "iopub.execute_input": "2025-01-06T07:04:01.355533Z",
     "iopub.status.busy": "2025-01-06T07:04:01.355134Z",
     "iopub.status.idle": "2025-01-06T07:04:01.369815Z",
     "shell.execute_reply": "2025-01-06T07:04:01.368544Z",
     "shell.execute_reply.started": "2025-01-06T07:04:01.355499Z"
    },
    "trusted": true
   },
   "outputs": [
    {
     "name": "stdout",
     "output_type": "stream",
     "text": [
      "<class 'pandas.core.frame.DataFrame'>\n",
      "RangeIndex: 4284 entries, 0 to 4283\n",
      "Data columns (total 2 columns):\n",
      " #   Column       Non-Null Count  Dtype \n",
      "---  ------       --------------  ----- \n",
      " 0   predictions  4284 non-null   object\n",
      " 1   references   4282 non-null   object\n",
      "dtypes: object(2)\n",
      "memory usage: 67.1+ KB\n"
     ]
    }
   ],
   "source": [
    "new_header = ['predictions', 'references']\n",
    "saved_preds_df.columns = new_header\n",
    "saved_preds_df.info()"
   ]
  },
  {
   "cell_type": "code",
   "execution_count": 4,
   "metadata": {
    "execution": {
     "iopub.execute_input": "2025-01-06T07:04:03.162250Z",
     "iopub.status.busy": "2025-01-06T07:04:03.161867Z",
     "iopub.status.idle": "2025-01-06T07:04:03.171521Z",
     "shell.execute_reply": "2025-01-06T07:04:03.170487Z",
     "shell.execute_reply.started": "2025-01-06T07:04:03.162218Z"
    },
    "trusted": true
   },
   "outputs": [
    {
     "data": {
      "text/html": [
       "<div>\n",
       "<style scoped>\n",
       "    .dataframe tbody tr th:only-of-type {\n",
       "        vertical-align: middle;\n",
       "    }\n",
       "\n",
       "    .dataframe tbody tr th {\n",
       "        vertical-align: top;\n",
       "    }\n",
       "\n",
       "    .dataframe thead th {\n",
       "        text-align: right;\n",
       "    }\n",
       "</style>\n",
       "<table border=\"1\" class=\"dataframe\">\n",
       "  <thead>\n",
       "    <tr style=\"text-align: right;\">\n",
       "      <th></th>\n",
       "      <th>predictions</th>\n",
       "      <th>references</th>\n",
       "    </tr>\n",
       "  </thead>\n",
       "  <tbody>\n",
       "    <tr>\n",
       "      <th>0</th>\n",
       "      <td>\\n### Instruction:\\n5 ਬਾਹਰੀ ਗਤੀਵਿਧੀਆਂ ਦੀ ਸੂਚੀ ...</td>\n",
       "      <td>1. ਕੁਦਰਤ ਦੀ ਸੈਰ ਕਰੋ।\\n2. ਸਾਈਕਲ ਦੀ ਸਵਾਰੀ ਲਈ ਜਾਓ...</td>\n",
       "    </tr>\n",
       "    <tr>\n",
       "      <th>1</th>\n",
       "      <td>\\n### Instruction:\\nਪੰਜ ਗੁਣ ਦੱਸੋ ਜੋ ਕਿਸੇ ਨੂੰ ਪ...</td>\n",
       "      <td>1. ਭਰੋਸੇਯੋਗ\\n2. ਉਦਾਰ\\n3. ਸਹਾਇਕ\\n4. ਗੈਰ-ਨਿਰਣਾਇਕ...</td>\n",
       "    </tr>\n",
       "    <tr>\n",
       "      <th>2</th>\n",
       "      <td>\\n### Instruction:\\nਇੱਕ ਕਾਲਪਨਿਕ ਸੌਫਟਵੇਅਰ ਕੰਪਨੀ...</td>\n",
       "      <td>ਅੰਤਮ ਸੌਫਟਵੇਅਰ ਪੈਕੇਜ ਬਣਾਓ ਅਤੇ 30% ਦੀ ਛੂਟ ਪ੍ਰਾਪਤ...</td>\n",
       "    </tr>\n",
       "    <tr>\n",
       "      <th>3</th>\n",
       "      <td>\\n### Instruction:\\nਜਾਂਚ ਕਰੋ ਕਿ ਕੀ ਇਹ ਵਾਕ ਵਿਆਕ...</td>\n",
       "      <td>ਹਾਂ</td>\n",
       "    </tr>\n",
       "    <tr>\n",
       "      <th>4</th>\n",
       "      <td>\\n### Instruction:\\nਦਿੱਤੇ ਪੈਰੇ ਤੋਂ ਇੱਕ ਤੱਥ ਮੁੜ...</td>\n",
       "      <td>ਐਪਲ ਨੇ ਇਸ ਹਫਤੇ Apple M1 ਚਿੱਪ ਦੀ ਘੋਸ਼ਣਾ ਕੀਤੀ.</td>\n",
       "    </tr>\n",
       "  </tbody>\n",
       "</table>\n",
       "</div>"
      ],
      "text/plain": [
       "                                         predictions  \\\n",
       "0  \\n### Instruction:\\n5 ਬਾਹਰੀ ਗਤੀਵਿਧੀਆਂ ਦੀ ਸੂਚੀ ...   \n",
       "1  \\n### Instruction:\\nਪੰਜ ਗੁਣ ਦੱਸੋ ਜੋ ਕਿਸੇ ਨੂੰ ਪ...   \n",
       "2  \\n### Instruction:\\nਇੱਕ ਕਾਲਪਨਿਕ ਸੌਫਟਵੇਅਰ ਕੰਪਨੀ...   \n",
       "3  \\n### Instruction:\\nਜਾਂਚ ਕਰੋ ਕਿ ਕੀ ਇਹ ਵਾਕ ਵਿਆਕ...   \n",
       "4  \\n### Instruction:\\nਦਿੱਤੇ ਪੈਰੇ ਤੋਂ ਇੱਕ ਤੱਥ ਮੁੜ...   \n",
       "\n",
       "                                          references  \n",
       "0  1. ਕੁਦਰਤ ਦੀ ਸੈਰ ਕਰੋ।\\n2. ਸਾਈਕਲ ਦੀ ਸਵਾਰੀ ਲਈ ਜਾਓ...  \n",
       "1  1. ਭਰੋਸੇਯੋਗ\\n2. ਉਦਾਰ\\n3. ਸਹਾਇਕ\\n4. ਗੈਰ-ਨਿਰਣਾਇਕ...  \n",
       "2  ਅੰਤਮ ਸੌਫਟਵੇਅਰ ਪੈਕੇਜ ਬਣਾਓ ਅਤੇ 30% ਦੀ ਛੂਟ ਪ੍ਰਾਪਤ...  \n",
       "3                                                ਹਾਂ  \n",
       "4       ਐਪਲ ਨੇ ਇਸ ਹਫਤੇ Apple M1 ਚਿੱਪ ਦੀ ਘੋਸ਼ਣਾ ਕੀਤੀ.  "
      ]
     },
     "execution_count": 4,
     "metadata": {},
     "output_type": "execute_result"
    }
   ],
   "source": [
    "saved_preds_df.head()"
   ]
  },
  {
   "cell_type": "code",
   "execution_count": 5,
   "metadata": {
    "execution": {
     "iopub.execute_input": "2025-01-06T07:04:06.070723Z",
     "iopub.status.busy": "2025-01-06T07:04:06.070321Z",
     "iopub.status.idle": "2025-01-06T07:04:06.085606Z",
     "shell.execute_reply": "2025-01-06T07:04:06.084456Z",
     "shell.execute_reply.started": "2025-01-06T07:04:06.070689Z"
    },
    "trusted": true
   },
   "outputs": [
    {
     "name": "stdout",
     "output_type": "stream",
     "text": [
      "<class 'pandas.core.frame.DataFrame'>\n",
      "Index: 4282 entries, 0 to 4283\n",
      "Data columns (total 2 columns):\n",
      " #   Column       Non-Null Count  Dtype \n",
      "---  ------       --------------  ----- \n",
      " 0   predictions  4282 non-null   object\n",
      " 1   references   4282 non-null   object\n",
      "dtypes: object(2)\n",
      "memory usage: 100.4+ KB\n"
     ]
    }
   ],
   "source": [
    "saved_preds_df = saved_preds_df.dropna()\n",
    "saved_preds_df.info()"
   ]
  },
  {
   "cell_type": "code",
   "execution_count": 6,
   "metadata": {
    "execution": {
     "iopub.execute_input": "2025-01-06T07:04:08.355519Z",
     "iopub.status.busy": "2025-01-06T07:04:08.355031Z",
     "iopub.status.idle": "2025-01-06T07:04:08.365870Z",
     "shell.execute_reply": "2025-01-06T07:04:08.364663Z",
     "shell.execute_reply.started": "2025-01-06T07:04:08.355473Z"
    },
    "trusted": true
   },
   "outputs": [
    {
     "data": {
      "text/html": [
       "<div>\n",
       "<style scoped>\n",
       "    .dataframe tbody tr th:only-of-type {\n",
       "        vertical-align: middle;\n",
       "    }\n",
       "\n",
       "    .dataframe tbody tr th {\n",
       "        vertical-align: top;\n",
       "    }\n",
       "\n",
       "    .dataframe thead th {\n",
       "        text-align: right;\n",
       "    }\n",
       "</style>\n",
       "<table border=\"1\" class=\"dataframe\">\n",
       "  <thead>\n",
       "    <tr style=\"text-align: right;\">\n",
       "      <th></th>\n",
       "      <th>predictions</th>\n",
       "      <th>references</th>\n",
       "    </tr>\n",
       "  </thead>\n",
       "  <tbody>\n",
       "    <tr>\n",
       "      <th>0</th>\n",
       "      <td>\\n### Instruction:\\n5 ਬਾਹਰੀ ਗਤੀਵਿਧੀਆਂ ਦੀ ਸੂਚੀ ...</td>\n",
       "      <td>1. ਕੁਦਰਤ ਦੀ ਸੈਰ ਕਰੋ।\\n2. ਸਾਈਕਲ ਦੀ ਸਵਾਰੀ ਲਈ ਜਾਓ...</td>\n",
       "    </tr>\n",
       "    <tr>\n",
       "      <th>1</th>\n",
       "      <td>\\n### Instruction:\\nਪੰਜ ਗੁਣ ਦੱਸੋ ਜੋ ਕਿਸੇ ਨੂੰ ਪ...</td>\n",
       "      <td>1. ਭਰੋਸੇਯੋਗ\\n2. ਉਦਾਰ\\n3. ਸਹਾਇਕ\\n4. ਗੈਰ-ਨਿਰਣਾਇਕ...</td>\n",
       "    </tr>\n",
       "    <tr>\n",
       "      <th>2</th>\n",
       "      <td>\\n### Instruction:\\nਇੱਕ ਕਾਲਪਨਿਕ ਸੌਫਟਵੇਅਰ ਕੰਪਨੀ...</td>\n",
       "      <td>ਅੰਤਮ ਸੌਫਟਵੇਅਰ ਪੈਕੇਜ ਬਣਾਓ ਅਤੇ 30% ਦੀ ਛੂਟ ਪ੍ਰਾਪਤ...</td>\n",
       "    </tr>\n",
       "    <tr>\n",
       "      <th>3</th>\n",
       "      <td>\\n### Instruction:\\nਜਾਂਚ ਕਰੋ ਕਿ ਕੀ ਇਹ ਵਾਕ ਵਿਆਕ...</td>\n",
       "      <td>ਹਾਂ</td>\n",
       "    </tr>\n",
       "    <tr>\n",
       "      <th>4</th>\n",
       "      <td>\\n### Instruction:\\nਦਿੱਤੇ ਪੈਰੇ ਤੋਂ ਇੱਕ ਤੱਥ ਮੁੜ...</td>\n",
       "      <td>ਐਪਲ ਨੇ ਇਸ ਹਫਤੇ Apple M1 ਚਿੱਪ ਦੀ ਘੋਸ਼ਣਾ ਕੀਤੀ.</td>\n",
       "    </tr>\n",
       "  </tbody>\n",
       "</table>\n",
       "</div>"
      ],
      "text/plain": [
       "                                         predictions  \\\n",
       "0  \\n### Instruction:\\n5 ਬਾਹਰੀ ਗਤੀਵਿਧੀਆਂ ਦੀ ਸੂਚੀ ...   \n",
       "1  \\n### Instruction:\\nਪੰਜ ਗੁਣ ਦੱਸੋ ਜੋ ਕਿਸੇ ਨੂੰ ਪ...   \n",
       "2  \\n### Instruction:\\nਇੱਕ ਕਾਲਪਨਿਕ ਸੌਫਟਵੇਅਰ ਕੰਪਨੀ...   \n",
       "3  \\n### Instruction:\\nਜਾਂਚ ਕਰੋ ਕਿ ਕੀ ਇਹ ਵਾਕ ਵਿਆਕ...   \n",
       "4  \\n### Instruction:\\nਦਿੱਤੇ ਪੈਰੇ ਤੋਂ ਇੱਕ ਤੱਥ ਮੁੜ...   \n",
       "\n",
       "                                          references  \n",
       "0  1. ਕੁਦਰਤ ਦੀ ਸੈਰ ਕਰੋ।\\n2. ਸਾਈਕਲ ਦੀ ਸਵਾਰੀ ਲਈ ਜਾਓ...  \n",
       "1  1. ਭਰੋਸੇਯੋਗ\\n2. ਉਦਾਰ\\n3. ਸਹਾਇਕ\\n4. ਗੈਰ-ਨਿਰਣਾਇਕ...  \n",
       "2  ਅੰਤਮ ਸੌਫਟਵੇਅਰ ਪੈਕੇਜ ਬਣਾਓ ਅਤੇ 30% ਦੀ ਛੂਟ ਪ੍ਰਾਪਤ...  \n",
       "3                                                ਹਾਂ  \n",
       "4       ਐਪਲ ਨੇ ਇਸ ਹਫਤੇ Apple M1 ਚਿੱਪ ਦੀ ਘੋਸ਼ਣਾ ਕੀਤੀ.  "
      ]
     },
     "execution_count": 6,
     "metadata": {},
     "output_type": "execute_result"
    }
   ],
   "source": [
    "saved_preds_df.head()"
   ]
  },
  {
   "cell_type": "code",
   "execution_count": 7,
   "metadata": {
    "execution": {
     "iopub.execute_input": "2025-01-06T07:04:43.904060Z",
     "iopub.status.busy": "2025-01-06T07:04:43.903723Z",
     "iopub.status.idle": "2025-01-06T07:04:44.007774Z",
     "shell.execute_reply": "2025-01-06T07:04:44.006667Z",
     "shell.execute_reply.started": "2025-01-06T07:04:43.904025Z"
    },
    "trusted": true
   },
   "outputs": [],
   "source": [
    "saved_preds_df.to_csv(\"Predictions_test_data.csv\", index=None)"
   ]
  },
  {
   "cell_type": "code",
   "execution_count": 24,
   "metadata": {
    "execution": {
     "iopub.execute_input": "2024-12-26T11:25:07.654617Z",
     "iopub.status.busy": "2024-12-26T11:25:07.652942Z",
     "iopub.status.idle": "2024-12-26T11:25:07.669933Z",
     "shell.execute_reply": "2024-12-26T11:25:07.668304Z",
     "shell.execute_reply.started": "2024-12-26T11:25:07.654545Z"
    },
    "trusted": true
   },
   "outputs": [],
   "source": [
    "predictions=list(saved_preds_df['predictions'])\n",
    "references=list(saved_preds_df['references'])"
   ]
  },
  {
   "cell_type": "code",
   "execution_count": 26,
   "metadata": {
    "execution": {
     "iopub.execute_input": "2024-12-26T12:21:49.127144Z",
     "iopub.status.busy": "2024-12-26T12:21:49.126680Z",
     "iopub.status.idle": "2024-12-26T12:21:54.437244Z",
     "shell.execute_reply": "2024-12-26T12:21:54.435899Z",
     "shell.execute_reply.started": "2024-12-26T12:21:49.127076Z"
    },
    "trusted": true
   },
   "outputs": [
    {
     "data": {
      "application/vnd.jupyter.widget-view+json": {
       "model_id": "8607f5894be7455698eb3d21feed72f0",
       "version_major": 2,
       "version_minor": 0
      },
      "text/plain": [
       "Downloading builder script:   0%|          | 0.00/5.94k [00:00<?, ?B/s]"
      ]
     },
     "metadata": {},
     "output_type": "display_data"
    },
    {
     "data": {
      "application/vnd.jupyter.widget-view+json": {
       "model_id": "f27d581522c244c398200afbc89827f7",
       "version_major": 2,
       "version_minor": 0
      },
      "text/plain": [
       "Downloading extra modules:   0%|          | 0.00/1.55k [00:00<?, ?B/s]"
      ]
     },
     "metadata": {},
     "output_type": "display_data"
    },
    {
     "data": {
      "application/vnd.jupyter.widget-view+json": {
       "model_id": "6301f1d6e5ee45a7bfe3f02dab8d26f8",
       "version_major": 2,
       "version_minor": 0
      },
      "text/plain": [
       "Downloading extra modules:   0%|          | 0.00/3.34k [00:00<?, ?B/s]"
      ]
     },
     "metadata": {},
     "output_type": "display_data"
    },
    {
     "name": "stdout",
     "output_type": "stream",
     "text": [
      "BLEU Score: 0.03157486421394274\n"
     ]
    }
   ],
   "source": [
    "# BLEU\n",
    "bleu = load(\"bleu\")\n",
    "bleu_results = bleu.compute(predictions=predictions, references=references)\n",
    "print(f\"BLEU Score: {bleu_results['bleu']}\")\n"
   ]
  },
  {
   "cell_type": "code",
   "execution_count": 30,
   "metadata": {
    "execution": {
     "iopub.execute_input": "2024-12-26T07:14:24.655289Z",
     "iopub.status.busy": "2024-12-26T07:14:24.654895Z",
     "iopub.status.idle": "2024-12-26T07:14:28.341205Z",
     "shell.execute_reply": "2024-12-26T07:14:28.340126Z",
     "shell.execute_reply.started": "2024-12-26T07:14:24.655255Z"
    },
    "trusted": true
   },
   "outputs": [
    {
     "name": "stdout",
     "output_type": "stream",
     "text": [
      "ROUGE Score: {'rouge1': 0.038499762388349804, 'rouge2': 0.013019296072536182, 'rougeL': 0.03762116227346678, 'rougeLsum': 0.037291436269988584}\n"
     ]
    }
   ],
   "source": [
    "# ROUGE\n",
    "rouge = load(\"rouge\")\n",
    "rouge_results = rouge.compute(predictions=predictions, references=references)\n",
    "print(f\"ROUGE Score: {rouge_results}\")  # This will print different ROUGE variants"
   ]
  },
  {
   "cell_type": "code",
   "execution_count": 42,
   "metadata": {
    "execution": {
     "iopub.execute_input": "2024-12-26T07:21:34.056487Z",
     "iopub.status.busy": "2024-12-26T07:21:34.056118Z",
     "iopub.status.idle": "2024-12-26T07:21:34.061265Z",
     "shell.execute_reply": "2024-12-26T07:21:34.060014Z",
     "shell.execute_reply.started": "2024-12-26T07:21:34.056456Z"
    },
    "trusted": true
   },
   "outputs": [],
   "source": [
    "# METEOR (hold for now)\n",
    "#meteor = load(\"meteor\")\n",
    "#meteor_results = meteor.compute(predictions=predictions, references=references)\n",
    "#print(f\"METEOR Score: {meteor_results['meteor']}\")"
   ]
  },
  {
   "cell_type": "code",
   "execution_count": null,
   "metadata": {
    "trusted": true
   },
   "outputs": [],
   "source": [
    "# BERTScore\n",
    "bertscore = load(\"bertscore\")\n",
    "bertscore_results = bertscore.compute(predictions=predictions, references=references, lang=\"en\")\n",
    "print(f\"BERTScore: {bertscore_results}\")  # This will print precision, recall, and F1"
   ]
  },
  {
   "cell_type": "code",
   "execution_count": 20,
   "metadata": {
    "execution": {
     "iopub.execute_input": "2024-12-26T11:15:48.721027Z",
     "iopub.status.busy": "2024-12-26T11:15:48.720350Z",
     "iopub.status.idle": "2024-12-26T11:15:48.726374Z",
     "shell.execute_reply": "2024-12-26T11:15:48.724922Z",
     "shell.execute_reply.started": "2024-12-26T11:15:48.720985Z"
    },
    "trusted": true
   },
   "outputs": [],
   "source": [
    "#!pip install -q mauve-text"
   ]
  },
  {
   "cell_type": "code",
   "execution_count": null,
   "metadata": {
    "trusted": true
   },
   "outputs": [],
   "source": [
    "# Dialogue Generation Metrics (Example - Distinct-1 and Distinct-2)\n",
    "def distinct_n(texts, n):\n",
    "    \"\"\"Calculates the number of distinct n-grams divided by the total number of n-grams.\"\"\"\n",
    "    all_ngrams = []\n",
    "    for text in texts:\n",
    "        tokens = nltk.word_tokenize(text)\n",
    "        ngrams = list(nltk.ngrams(tokens, n))\n",
    "        all_ngrams.extend(ngrams)\n",
    "    return len(set(all_ngrams)) / len(all_ngrams) if all_ngrams else 0\n",
    "\n",
    "distinct_1_score = distinct_n(predictions, 1)\n",
    "distinct_2_score = distinct_n(predictions, 2)\n",
    "print(f\"Distinct-1: {distinct_1_score}\")\n",
    "print(f\"Distinct-2: {distinct_2_score}\")\n",
    "\n",
    "# MAUVE (This requires the MAUVE package - pip install mauve-text)\n",
    "try:\n",
    "    from mauve import compute_mauve\n",
    "    mauve_results = compute_mauve(p_text=predictions, q_text=references)\n",
    "    print(f\"MAUVE Score: {mauve_results}\")\n",
    "except ImportError:\n",
    "    print(\"MAUVE package not found. Please install it with 'pip install mauve-text'\")"
   ]
  },
  {
   "cell_type": "code",
   "execution_count": 25,
   "metadata": {
    "execution": {
     "iopub.execute_input": "2024-12-26T11:25:21.869459Z",
     "iopub.status.busy": "2024-12-26T11:25:21.868898Z",
     "iopub.status.idle": "2024-12-26T12:21:49.124673Z",
     "shell.execute_reply": "2024-12-26T12:21:49.123175Z",
     "shell.execute_reply.started": "2024-12-26T11:25:21.869421Z"
    },
    "trusted": true
   },
   "outputs": [
    {
     "name": "stdout",
     "output_type": "stream",
     "text": [
      "Self-BLEU Score: 0.4602623690010304\n"
     ]
    }
   ],
   "source": [
    "# Self-BLEU 1\n",
    "# Self-BLEU (This requires a bit more complex logic to compare generated texts to each other)\n",
    "from nltk.translate.bleu_score import sentence_bleu, SmoothingFunction\n",
    "\n",
    "def self_bleu(texts):\n",
    "    \"\"\"Calculates the average self-BLEU score of each generated text against all other generated texts.\"\"\"\n",
    "    self_bleu_scores = []\n",
    "    for i in range(len(texts)):\n",
    "        current_text = texts[i].split()  # Tokenize the current text\n",
    "        other_texts = [texts[j].split() for j in range(len(texts)) if j != i]  # Tokenize other texts\n",
    "        bleu_score = sentence_bleu(other_texts, current_text, smoothing_function=SmoothingFunction().method1)\n",
    "        self_bleu_scores.append(bleu_score)\n",
    "    return sum(self_bleu_scores) / len(self_bleu_scores)\n",
    "\n",
    "self_bleu_score = self_bleu(predictions)\n",
    "print(f\"Self-BLEU Score: {self_bleu_score}\")"
   ]
  },
  {
   "cell_type": "code",
   "execution_count": null,
   "metadata": {
    "execution": {
     "execution_failed": "2024-12-26T13:01:40.345Z",
     "iopub.execute_input": "2024-12-26T12:21:54.439514Z",
     "iopub.status.busy": "2024-12-26T12:21:54.439129Z"
    },
    "trusted": true
   },
   "outputs": [],
   "source": [
    "# Self-BLEU 2\n",
    "# Self-BLEU (This requires a bit more complex logic to compare generated texts to each other)\n",
    "def self_bleu(texts):\n",
    "    \"\"\"Calculates the average BLEU score of each generated text against all other generated texts.\"\"\"\n",
    "    self_bleu_scores = []\n",
    "    for i in range(len(texts)):\n",
    "        # Calculate BLEU for the current text against all other texts\n",
    "        current_text = texts[i]\n",
    "        other_texts = texts[:i] + texts[i+1:]\n",
    "        bleu_result = bleu.compute(predictions=[current_text], references=[other_texts])\n",
    "        self_bleu_scores.append(bleu_result['bleu'])\n",
    "    return sum(self_bleu_scores) / len(self_bleu_scores)\n",
    "\n",
    "self_bleu_score = self_bleu(predictions)\n",
    "print(f\"Self-BLEU Score: {self_bleu_score}\") \n"
   ]
  },
  {
   "cell_type": "code",
   "execution_count": null,
   "metadata": {
    "trusted": true
   },
   "outputs": [],
   "source": []
  },
  {
   "cell_type": "code",
   "execution_count": null,
   "metadata": {
    "trusted": true
   },
   "outputs": [],
   "source": []
  }
 ],
 "metadata": {
  "kaggle": {
   "accelerator": "none",
   "dataSources": [],
   "dockerImageVersionId": 30823,
   "isGpuEnabled": false,
   "isInternetEnabled": true,
   "language": "python",
   "sourceType": "notebook"
  },
  "kernelspec": {
   "display_name": "Python 3",
   "language": "python",
   "name": "python3"
  },
  "language_info": {
   "codemirror_mode": {
    "name": "ipython",
    "version": 3
   },
   "file_extension": ".py",
   "mimetype": "text/x-python",
   "name": "python",
   "nbconvert_exporter": "python",
   "pygments_lexer": "ipython3",
   "version": "3.10.12"
  }
 },
 "nbformat": 4,
 "nbformat_minor": 4
}
